{
 "cells": [
  {
   "cell_type": "code",
   "execution_count": 6,
   "id": "aef52c48",
   "metadata": {},
   "outputs": [
    {
     "name": "stdout",
     "output_type": "stream",
     "text": [
      "Nhập số thứ nhất: 24\n",
      "Nhập số thứ 2: 16\n",
      "UCLN của a và b là:  8\n"
     ]
    }
   ],
   "source": [
    "#Bài 1: Tìm ước chung lớn nhất của hai số nguyên nhập vào từ bàn phím.\n",
    "\n",
    "a = int(input('Nhập số thứ nhất: '))\n",
    "b = int(input('Nhập số thứ 2: '))\n",
    "c = a if a > b else b \n",
    "i = 1\n",
    "while i <= (c/2): \n",
    "    if a%i ==0 and b%i==0:\n",
    "        UCLN = i\n",
    "    i +=1\n",
    "    \n",
    "print ('UCLN của a và b là: ',UCLN)\n",
    "    "
   ]
  },
  {
   "cell_type": "code",
   "execution_count": 18,
   "id": "61d1ec7e",
   "metadata": {},
   "outputs": [
    {
     "name": "stdout",
     "output_type": "stream",
     "text": [
      "nhập giá trị ngưỡng min: -7\n",
      "nhập giá trị ngưỡng max: -1\n",
      "nhập giá trị sai số: 0.00001\n",
      "\n",
      "Số lần lặp chia đôi:  19\n",
      "Kết quả:  -6.285049252212048 -3.096363939344883\n"
     ]
    }
   ],
   "source": [
    "# Bài 2: Tìm nghiệm gần đúng của hàm f(x) = e^x + sin(x) trong khoảng [-1, 1]\n",
    "# với sai lệnh của nghiệm là alpha = 0.00001. \n",
    "# Gợi ý: dùng phương pháp chia đôi \n",
    "\n",
    "import math\n",
    "\n",
    "a1 = float(input('nhập giá trị ngưỡng min: '))\n",
    "a2 = float(input('nhập giá trị ngưỡng max: '))\n",
    "d = float(input('nhập giá trị sai số: '))\n",
    "\n",
    "def f(a):  \n",
    "    fa = ((math.e)**a) + math.sin(a)\n",
    "    return fa\n",
    "\n",
    "def nlap(a1, a2, d): \n",
    "    n = round(((math.log((a2-a1)/d))/(math.log(2))),0)\n",
    "    return n\n",
    "\n",
    "def timx(a1, a2, n):\n",
    "    c = (a1 + a2)/2\n",
    "    i = 0    \n",
    "    while i <= n: \n",
    "        i +=1 \n",
    "        if f(a1)*f(c)<0: \n",
    "            a2 = c\n",
    "            c = (a1 + a2)/2\n",
    "        if f(a2)*f(c)<0:\n",
    "            a1 = c\n",
    "            c = (a1+a2)/2      \n",
    "    return c\n",
    "\n",
    "n = int(nlap(a1, a2, d))\n",
    "c = timx(a1, a2, n)\n",
    "print ('\\nSố lần lặp chia đôi: ', n)\n",
    "print ('Kết quả: ',c )\n"
   ]
  },
  {
   "cell_type": "code",
   "execution_count": null,
   "id": "83a22a4a",
   "metadata": {},
   "outputs": [],
   "source": [
    "\n",
    "import math\n",
    "\n",
    "a1 = float(input('nhập giá trị ngưỡng min: '))\n",
    "a2 = float(input('nhập giá trị ngưỡng max: '))\n",
    "d = float(input('nhập giá trị sai số: '))\n",
    "\n",
    "def f(a):  \n",
    "    fa = ((math.e)**a) + math.sin(a)\n",
    "    return fa\n",
    "\n",
    "def nlap(a1, a2, d): \n",
    "    n = round(((math.log((a2-a1)/d))/(math.log(2))),0)\n",
    "    return n\n",
    "\n",
    "def timx1(a1, a2, n):\n",
    "    c = (a1 + a2)/2\n",
    "    i = 0    \n",
    "    while i <= n: \n",
    "        i +=1 \n",
    "        if f(a1)*f(c)<0: \n",
    "            a2 = c\n",
    "            c = (a1 + a2)/2\n",
    "        if f(a2)*f(c)<0:\n",
    "            a1 = c\n",
    "            c = (a1+a2)/2      \n",
    "    return c\n",
    "\n",
    "def timx2(a1, a2, n):\n",
    "    c = (a1 + a2)/2\n",
    "    i = 0    \n",
    "    while i <= n: \n",
    "        i +=1 \n",
    "        if f(a2)*f(c)<0:\n",
    "            a1 = c\n",
    "            c = (a1+a2)/2\n",
    "        if f(a1)*f(c)<0: \n",
    "            a2 = c\n",
    "            c = (a1 + a2)/2\n",
    "      \n",
    "    return c\n",
    "\n",
    "n = int(nlap(a1, a2, d))\n",
    "c = timx1(a1, a2, n)\n",
    "d = timx2(a1, a2, n)\n",
    "print ('\\nSố lần lặp chia đôi: ', n)\n",
    "print ('Kết quả: ',c , d)\n"
   ]
  },
  {
   "cell_type": "code",
   "execution_count": null,
   "id": "23906f61",
   "metadata": {},
   "outputs": [],
   "source": []
  }
 ],
 "metadata": {
  "kernelspec": {
   "display_name": "Python 3 (ipykernel)",
   "language": "python",
   "name": "python3"
  },
  "language_info": {
   "codemirror_mode": {
    "name": "ipython",
    "version": 3
   },
   "file_extension": ".py",
   "mimetype": "text/x-python",
   "name": "python",
   "nbconvert_exporter": "python",
   "pygments_lexer": "ipython3",
   "version": "3.9.12"
  }
 },
 "nbformat": 4,
 "nbformat_minor": 5
}
